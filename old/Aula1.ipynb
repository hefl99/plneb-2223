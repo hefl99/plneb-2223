{
 "cells": [
  {
   "cell_type": "code",
   "execution_count": 5,
   "metadata": {},
   "outputs": [
    {
     "name": "stdout",
     "output_type": "stream",
     "text": [
      "Hello Woröd\n"
     ]
    }
   ],
   "source": [
    "print(\"Hello Woröd\")"
   ]
  },
  {
   "cell_type": "code",
   "execution_count": 8,
   "metadata": {},
   "outputs": [
    {
     "data": {
      "text/plain": [
       "'hffhfh'"
      ]
     },
     "execution_count": 8,
     "metadata": {},
     "output_type": "execute_result"
    }
   ],
   "source": [
    "editor = input(\"What is your fav text editor? \")\n",
    "editor"
   ]
  },
  {
   "cell_type": "code",
   "execution_count": 11,
   "metadata": {},
   "outputs": [
    {
     "name": "stdout",
     "output_type": "stream",
     "text": [
      "3 < 5\n",
      "6 > 5\n",
      "7 > 5\n",
      "Five!\n",
      "2 < 5\n",
      "9 > 5\n",
      "4 < 5\n",
      "0 < 5\n",
      "10 > 5\n"
     ]
    }
   ],
   "source": [
    "a = [3,6,7,5,2,9,4,0,10]\n",
    "\n",
    "for i in a:\n",
    "    if i<5:\n",
    "        print(str(i) + ' < 5')\n",
    "    elif i>5:\n",
    "        print(str(i)+' > 5')\n",
    "    else:\n",
    "        print('Five!')\n",
    "    "
   ]
  },
  {
   "cell_type": "code",
   "execution_count": 12,
   "metadata": {},
   "outputs": [
    {
     "name": "stdout",
     "output_type": "stream",
     "text": [
      "I'm a\n"
     ]
    }
   ],
   "source": [
    "print('I\\'m a')"
   ]
  },
  {
   "cell_type": "code",
   "execution_count": 13,
   "metadata": {},
   "outputs": [],
   "source": [
    "text = 'hello world'"
   ]
  },
  {
   "cell_type": "code",
   "execution_count": 14,
   "metadata": {},
   "outputs": [
    {
     "data": {
      "text/plain": [
       "' worl'"
      ]
     },
     "execution_count": 14,
     "metadata": {},
     "output_type": "execute_result"
    }
   ],
   "source": [
    "text[5:-1]"
   ]
  },
  {
   "cell_type": "code",
   "execution_count": 15,
   "metadata": {},
   "outputs": [
    {
     "data": {
      "text/plain": [
       "'world'"
      ]
     },
     "execution_count": 15,
     "metadata": {},
     "output_type": "execute_result"
    }
   ],
   "source": [
    "text[-5:]"
   ]
  },
  {
   "cell_type": "code",
   "execution_count": 16,
   "metadata": {},
   "outputs": [
    {
     "data": {
      "text/plain": [
       "'hello wor'"
      ]
     },
     "execution_count": 16,
     "metadata": {},
     "output_type": "execute_result"
    }
   ],
   "source": [
    "text[:-2]"
   ]
  },
  {
   "cell_type": "code",
   "execution_count": 18,
   "metadata": {},
   "outputs": [
    {
     "data": {
      "text/plain": [
       "4"
      ]
     },
     "execution_count": 18,
     "metadata": {},
     "output_type": "execute_result"
    }
   ],
   "source": [
    "dic = {'a':'1','b':'2','ce':'3','ab':'5'}\n",
    "len(dic)"
   ]
  },
  {
   "cell_type": "code",
   "execution_count": 145,
   "metadata": {},
   "outputs": [],
   "source": [
    "#Exercise 1\n",
    "\n",
    "def nameupper():\n",
    "    name = input('Type your name:')\n",
    "    x = name.upper()\n",
    "    print(x)\n",
    "\n",
    "#Exercise 2\n",
    "\n",
    "def evennumbers(array):\n",
    "    new_array = [x for x in array if x % 2 == 0]\n",
    "    print(new_array)\n",
    "\n",
    "#Exercise 3\n",
    "\n",
    "def dat_invers(dat_name):\n",
    "    with open(dat_name, \"r\") as dat:\n",
    "        text = dat.readlines()\n",
    "\n",
    "    for i in text:\n",
    "        res = i[::-1]\n",
    "        print(res.strip())\n",
    "\n",
    "#Exercise 4\n",
    "\n",
    "import string\n",
    "\n",
    "def mostfrequentwords(filename):\n",
    "\n",
    "    with open(filename, 'r') as file:\n",
    "        text = file.read()\n",
    "    \n",
    "    text = text.translate(str.maketrans('','',string.punctuation))\n",
    "    listofwords = text.lower().split()\n",
    "    \n",
    "    dic = dict()\n",
    "    for i in listofwords:\n",
    "        if not i in dic:\n",
    "            dic[i]=1 \n",
    "        elif i in dic:\n",
    "            dic[i]+=1\n",
    "\n",
    "    sorted_dic = sorted(dic.items(), key = lambda x: x[1], reverse=True)\n",
    "\n",
    "    for i in sorted_dic[:10]:\n",
    "        print(i)\n",
    "\n",
    "\n",
    "#Exercise 5\n",
    "\n",
    "import unicodedata\n",
    "\n",
    "def cleaner(filename):\n",
    "    with open(filename, 'r') as file:\n",
    "        text = file.read()\n",
    "\n",
    "    print('Original text: \\n\\\"'+ text+ '\\\"')\n",
    "\n",
    "    text = text.lower()\n",
    "    text = unicodedata.normalize('NFKD', text)\n",
    "    text = text.encode('ASCII', 'ignore').decode('utf-8')\n",
    "\n",
    "    for i in string.punctuation + '\"''':\n",
    "        text = text.replace(i, ' ' +i+ ' ')\n",
    "\n",
    "    text = text.split()\n",
    "    print('\\nCleaned text elements: ')\n",
    "    print(text)\n",
    "\n",
    "    text = ' '.join(text)\n",
    "    print('\\nCleaned joined text: ')\n",
    "    print(text)\n"
   ]
  },
  {
   "cell_type": "code",
   "execution_count": 222,
   "metadata": {},
   "outputs": [
    {
     "name": "stdout",
     "output_type": "stream",
     "text": [
      ".A na htiw gnirts a ma I\n",
      "Count of 'a':  3 \n",
      "Count of 'A':  1\n",
      "Count of vowels is:  5\n",
      "i am a string with an a.\n",
      "I AM A STRING WITH AN A.\n"
     ]
    }
   ],
   "source": [
    "# Create function that:\n",
    "\n",
    "s = 'I am a string with an A.'\n",
    "\n",
    "# 1. Reverse string:\n",
    "\n",
    "def reverser(string):\n",
    "    res = string[::-1]\n",
    "    return print(res)\n",
    "\n",
    "reverser(s)\n",
    "\n",
    "# 2. How many 'a' and 'A':\n",
    "\n",
    "def howmany_a_or_A(string):\n",
    "    count_a, count_A = 0 , 0\n",
    "    for i in string:\n",
    "        if i == 'a':\n",
    "            count_a += 1\n",
    "        if i == 'A':\n",
    "            count_A += 1\n",
    "    return print('Count of \\'a\\': ', count_a ,'\\nCount of \\'A\\': ', count_A)\n",
    "    \n",
    "howmany_a_or_A(s)\n",
    "\n",
    "# 3. How many vowels (a, e, i, o, u):\n",
    "\n",
    "def numberofvowels(string):\n",
    "    count_vowels = 0\n",
    "    for i in string:\n",
    "        if i == \"a\" or i == \"e\" or i == \"i\" or i == \"o\" or i == \"u\":\n",
    "            count_vowels += 1\n",
    "    return print('Count of vowels is: ', count_vowels)\n",
    "\n",
    "numberofvowels(s)\n",
    "\n",
    "# 4. Convert to lower case:\n",
    "\n",
    "def lowercase(string):\n",
    "    res = string.lower()\n",
    "    return print(res)\n",
    "\n",
    "lowercase(s)\n",
    "\n",
    "# 5. Convert to upper case:\n",
    "\n",
    "def lowercase(string):\n",
    "    res = string.upper()\n",
    "    return print(res)\n",
    "\n",
    "lowercase(s)\n"
   ]
  }
 ],
 "metadata": {
  "interpreter": {
   "hash": "aee8b7b246df8f9039afb4144a1f6fd8d2ca17a180786b69acc140d282b71a49"
  },
  "kernelspec": {
   "display_name": "Python 3.10.0 64-bit",
   "language": "python",
   "name": "python3"
  },
  "language_info": {
   "codemirror_mode": {
    "name": "ipython",
    "version": 3
   },
   "file_extension": ".py",
   "mimetype": "text/x-python",
   "name": "python",
   "nbconvert_exporter": "python",
   "pygments_lexer": "ipython3",
   "version": "3.10.0"
  },
  "orig_nbformat": 4
 },
 "nbformat": 4,
 "nbformat_minor": 2
}
