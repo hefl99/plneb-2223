{
 "cells": [
  {
   "cell_type": "code",
   "execution_count": null,
   "metadata": {},
   "outputs": [],
   "source": [
    "from deep_translator import GoogleTranslator as gt\n",
    "import json\n",
    "import re\n",
    "\n",
    "tranlator = gt(source='pt',target='en')\n",
    "\n",
    "with(open('translations.txt') as dictionary_pt_en):\n",
    "    dictionary_pt_en = dictionary_pt_en.readlines()\n",
    "\n",
    "with(open('./old/dicionario_medico.json') as dictonario_medico):\n",
    "    dictonario_medico = json.load(dictonario_medico)\n",
    "\n",
    "dict_pt_en = {}\n",
    "for i in dictionary_pt_en:\n",
    "    listoftuple = re.findall(r'([^@]+)@([^@]+)', i)\n",
    "    pt, en = listoftuple[0]\n",
    "    dict_pt_en[pt.strip()]=en.strip()\n",
    "\n",
    "dictionary = {}\n",
    "\n",
    "for pt, des in dictonario_medico.items():\n",
    "    if pt in dict_pt_en:\n",
    "        dictionary[pt]={'des':des,'en':dict_pt_en[pt]}\n",
    "    else:\n",
    "        dictionary[pt]={'des':des, 'en':tranlator.translate(pt)}\n",
    "\n",
    "with(open('dictionary_pt_des_en.json','w') as final):\n",
    "    json.dump(dictionary, final, ensure_ascii= False, indent=4)\n",
    "\n",
    "\n"
   ]
  }
 ],
 "metadata": {
  "kernelspec": {
   "display_name": "Python 3",
   "language": "python",
   "name": "python3"
  },
  "language_info": {
   "codemirror_mode": {
    "name": "ipython",
    "version": 3
   },
   "file_extension": ".py",
   "mimetype": "text/x-python",
   "name": "python",
   "nbconvert_exporter": "python",
   "pygments_lexer": "ipython3",
   "version": "3.10.0"
  },
  "orig_nbformat": 4
 },
 "nbformat": 4,
 "nbformat_minor": 2
}
