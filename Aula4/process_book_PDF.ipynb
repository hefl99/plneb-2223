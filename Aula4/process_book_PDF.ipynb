{
 "cells": [
  {
   "cell_type": "code",
   "execution_count": 39,
   "metadata": {},
   "outputs": [],
   "source": [
    "import json\n",
    "import re\n",
    "\n",
    "with(open(\"dicionario_medico.json\") as dicionario_medico):\n",
    "    dictionary = json.load(dicionario_medico)\n",
    "\n",
    "with(open('LIVRO-Doenças-do-Aparelho-Digestivo.xml') as xml):\n",
    "    text = xml.read()\n",
    "\n",
    "for i in dictionary:\n",
    "    tooltip = \"<a title=\"+dictionary[i]+\">\"+i+\"</a>\"\n",
    "    text = re.sub(r'\\b'+i+r'\\b', tooltip, text, re.IGNORECASE)\n",
    "\n",
    "with(open('new_livro.xml','w') as new_livro):\n",
    "    new_livro.write(text)\n",
    "    \n",
    "\n"
   ]
  }
 ],
 "metadata": {
  "kernelspec": {
   "display_name": "Python 3",
   "language": "python",
   "name": "python3"
  },
  "language_info": {
   "codemirror_mode": {
    "name": "ipython",
    "version": 3
   },
   "file_extension": ".py",
   "mimetype": "text/x-python",
   "name": "python",
   "nbconvert_exporter": "python",
   "pygments_lexer": "ipython3",
   "version": "3.10.0"
  },
  "orig_nbformat": 4
 },
 "nbformat": 4,
 "nbformat_minor": 2
}
