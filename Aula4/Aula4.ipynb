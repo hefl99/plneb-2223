{
 "cells": [
  {
   "cell_type": "code",
   "execution_count": 68,
   "metadata": {},
   "outputs": [],
   "source": [
    "import re\n",
    "import json\n",
    "\n",
    "with(open(\"./dicionario_medico.xml\",encoding=\"UTF-8\") as xml):\n",
    "    text = xml.read()\n",
    "\n",
    "text = re.sub(r'</?page.*>','',text)\n",
    "text = re.sub(r'</?text.*?>','',text)\n",
    "\n",
    "list = re.findall(r'<b>(.+)</b>([^<]*)',text)\n",
    "list = [(re.sub(r'\\n','',palavra).strip(), re.sub(r'\\n','',significado).strip()) for palavra, significado in list]\n",
    "\n",
    "out = open(\"dicionario_medico.json\", \"w\")\n",
    "json.dump(list, out, ensure_ascii= False, indent=4)\n",
    "out.close()"
   ]
  }
 ],
 "metadata": {
  "kernelspec": {
   "display_name": "Python 3",
   "language": "python",
   "name": "python3"
  },
  "language_info": {
   "codemirror_mode": {
    "name": "ipython",
    "version": 3
   },
   "file_extension": ".py",
   "mimetype": "text/x-python",
   "name": "python",
   "nbconvert_exporter": "python",
   "pygments_lexer": "ipython3",
   "version": "3.10.0"
  },
  "orig_nbformat": 4
 },
 "nbformat": 4,
 "nbformat_minor": 2
}
