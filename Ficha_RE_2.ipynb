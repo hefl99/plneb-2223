{
  "cells": [
    {
      "cell_type": "markdown",
      "metadata": {
        "id": "oVaAea-wCM6H"
      },
      "source": [
        "# Ficha de Expressões Regulares 2"
      ]
    },
    {
      "cell_type": "markdown",
      "metadata": {
        "id": "gk5jnHXt9t4y"
      },
      "source": [
        "### Conceitos mais avançados de expressões regulares\n",
        "\n",
        "- `.` - corresponde a uma ocorrência de qualquer caracter (exceto '\\n', geralmente).\n",
        "- `\\w` - corresponde a um caracter alfanumérico (a-z, A-Z, 0-9 ou _).\n",
        "- `\\W` - corresponde a um caracter **não** alfanumérico.\n",
        "- `\\s` - corresponde a um caracter de *whitespace* (' ', '\\t', ou '\\n', por exemplo).\n",
        "- `\\S` - corresponde a um caracter que não seja *whitespace*.\n",
        "- `\\d` - corresponde a um dígito.\n",
        "- `\\D` - corresponde a um caracter que não seja um dígito.\n",
        "- `\\btot\\w+` - corresponde a uma palavra **começada** por \"tot\" (o token `\\b` representa uma *word boundary*, ou seja, o limite entre um caracter alfanumérico e outro não alfanumérico). Por outras palavras, captura a palavra \"totalidade\" mas não a palavra \"batota\". O token `\\b` também pode ser usado no fim de palavras.\n",
        "- `a(?=b)` - corresponde a um caracter `a` que tenha à sua frente um caracter `b`, mas não captura o caracter `b`. (*positive lookahead*)\n",
        "- `a(?!b)` - corresponde a um caracter `a` que **não** tenha à sua frente um caracter `b`, mas não captura o caracter seguinte. (*negative lookahead*)\n",
        "- `a(?<=b)` - corresponde a um caracter `a` que tenha atrás de si um caracter `b`, mas não captura o caracter `b`. (*positive lookbehind*)\n",
        "- `a(?<!b)` - corresponde a um caracter `a` que **não** tenha atrás de si um caracter `b`, mas não captura o caracter anterior. (*negative lookbehind*)\n"
      ]
    },
    {
      "cell_type": "markdown",
      "metadata": {
        "id": "lTaHmSRMMmvI"
      },
      "source": [
        "Podemos usar *grupos de captura* em expressões regulares para isolar segmentos da string capturada. Usamos parênteses para definir grupos de captura."
      ]
    },
    {
      "cell_type": "code",
      "execution_count": null,
      "metadata": {
        "colab": {
          "base_uri": "https://localhost:8080/"
        },
        "id": "1Aig805EMion",
        "outputId": "9178ca8e-7ac0-4633-9358-78bf73b2ea1e"
      },
      "outputs": [
        {
          "name": "stdout",
          "output_type": "stream",
          "text": [
            "('13', '49')\n",
            "13:49\n",
            "13\n"
          ]
        }
      ],
      "source": [
        "import re\n",
        "m = re.search(r'(2[0-3]|[0-1][0-9]):([0-5][0-9])', \"13:49\")\n",
        "\n",
        "print(m.groups()) # conjunto dos grupos de captura\n",
        "print(m.group(0)) # toda a string capturada\n",
        "print(m.group(1)) # o primeiro grupo de captura"
      ]
    },
    {
      "cell_type": "markdown",
      "metadata": {
        "id": "WxIEoiMdNPkq"
      },
      "source": [
        "O módulo re possui ainda *flags* que podemos usar nas suas funções. As mais úteis são:\n",
        "\n",
        "- `re.I` ou `re.IGNORECASE`: faz uma correspondência *case insensitive*.\n",
        "- `re.M` ou `re.MULTILINE`: os tokens de âncora `^` e `$` passam a corresponder ao início/fim de cada linha, em vez do início/fim de uma string.\n",
        "- `re.S` ou `re.DOTALL`: o token `.` passa a corresponder também a um caracter `\\n`.\n",
        "\n",
        "Podemos usar estas flags da seguinte forma: `re.search(r'trans.*mar', \"TRANSF\\nORMAR\", re.I | re.S)`"
      ]
    },
    {
      "cell_type": "markdown",
      "metadata": {
        "id": "0z3asvbtZijn"
      },
      "source": [
        "## Exercício 1 - Conversão de datas\n",
        "\n",
        "Define a função `iso_8601` que converte as datas presentes numa string no formato DD/MM/AAAA para o formato ISO 8601 - AAAA-MM-DD, usando expressões regulares e grupos de captura."
      ]
    },
    {
      "cell_type": "code",
      "execution_count": 12,
      "metadata": {
        "id": "VZXeGvw7aLIG"
      },
      "outputs": [
        {
          "name": "stdout",
          "output_type": "stream",
          "text": [
            "2022-01-03\n",
            "2022-01-12\n",
            "2022-01-15\n"
          ]
        }
      ],
      "source": [
        "import re\n",
        "texto = \"\"\"A 03/01/2022, Pedro viajou para a praia com a sua família.\n",
        "Eles ficaram hospedados num hotel e aproveitaram o sol e o mar durante toda a semana.\n",
        "Mais tarde, no dia 12/01/2022, Pedro voltou para casa e começou a trabalhar num novo projeto.\n",
        "Ele passou muitas horas no escritório, mas finalmente terminou o projeto a 15/01/2022.\"\"\"\n",
        "def iso_8601(string):\n",
        "    list = re.findall('\\d{2}/\\d{2}/\\d{4}',string)\n",
        "    for i in list:\n",
        "        res = print(i[-4:]+'-'+i[3:5]+'-'+i[0:2])\n",
        "    return res\n",
        "\n",
        "iso_8601(texto)\n"
      ]
    },
    {
      "cell_type": "markdown",
      "metadata": {
        "id": "WscyvBdMY8ic"
      },
      "source": [
        "## Exercício 2 - Validação de ficheiros\n",
        "\n",
        "Escreve um programa que lê uma lista de nomes de ficheiros e determina se cada nome é válido ou não. O nome de um ficheiro deve conter apenas caracteres alfanuméricos, hífens, underscores ou pontos, seguido de uma extensão (e.g., \".txt\", \".png\", etc.)."
      ]
    },
    {
      "cell_type": "code",
      "execution_count": 51,
      "metadata": {
        "id": "uUAouM4MZkF6"
      },
      "outputs": [
        {
          "name": "stdout",
          "output_type": "stream",
          "text": [
            "File name valid: \" document.txt \"\n",
            "File name invalid. \" file name.docx \"\n",
            "File name valid: \" image_001.jpg \"\n",
            "File name valid: \" script.sh.txt \"\n",
            "File name valid: \" test_file.txt \"\n",
            "File name invalid. \" file_name. \"\n",
            "File name valid: \" my_resume.docx \"\n",
            "File name valid: \" .hidden-file.txt \"\n",
            "File name invalid. \" important-file.text file \"\n",
            "File name invalid. \" file%name.jpg \"\n"
          ]
        }
      ],
      "source": [
        "file_names = [\n",
        "  \"document.txt\", # válido\n",
        "  \"file name.docx\", # inválido\n",
        "  \"image_001.jpg\", # válido\n",
        "  \"script.sh.txt\", # válido\n",
        "  \"test_file.txt\", # válido\n",
        "  \"file_name.\", # inválido\n",
        "  \"my_resume.docx\", # válido\n",
        "  \".hidden-file.txt\", # válido\n",
        "  \"important-file.text file\", # inválido\n",
        "  \"file%name.jpg\" # inválido\n",
        "]\n",
        "\n",
        "for i in file_names:\n",
        "  if (bool(re.match(r'^(\\w|\\.|_|-)*(\\.[a-z]+)+$',i))):\n",
        "    print('File name valid: \"',i,'\"')\n",
        "  else: print('File name invalid. \"',i, '\"')"
      ]
    },
    {
      "cell_type": "markdown",
      "metadata": {
        "id": "keqnY2BFZkvR"
      },
      "source": [
        "### Alínea 2.1\n",
        "\n",
        "Modifica o programa anterior para colocar os nomes de ficheiro válidos num dicionário, no qual as chaves deverão ser as extensões dos mesmos. Por outras palavras, agrupa os ficheiros por extensão."
      ]
    },
    {
      "cell_type": "code",
      "execution_count": 79,
      "metadata": {
        "id": "zdJMjdJsZ6FZ"
      },
      "outputs": [
        {
          "data": {
            "text/plain": [
              "{'.txt': ['document.txt',\n",
              "  'script.sh.txt',\n",
              "  'test_file.txt',\n",
              "  '.hidden-file.txt'],\n",
              " '.jpg': ['image_001.jpg'],\n",
              " '.docx': ['my_resume.docx']}"
            ]
          },
          "execution_count": 79,
          "metadata": {},
          "output_type": "execute_result"
        }
      ],
      "source": [
        "dic = {}\n",
        "\n",
        "for i in file_names:\n",
        "    if (bool(re.match(r'^(\\w|\\.|_|-)*(\\.[a-z]+)+$',i))):\n",
        "     \n",
        "        ending = re.findall('\\.[a-z]+$',i)[0]\n",
        "       \n",
        "        if ending in dic:\n",
        "            dic[ending].append(i)\n",
        "        else: \n",
        "            dic[ending] = [i]\n",
        "\n",
        "dic"
      ]
    },
    {
      "cell_type": "markdown",
      "metadata": {
        "id": "a40c7yfabZOZ"
      },
      "source": [
        "## Exercício 3 - Conversão de nomes\n",
        "\n",
        "Escreve um filtro de texto que converte cada nome completo de uma pessoa encontrada num texto fonte, no formato `PrimeiroNome SegundoNome [...] UltimoNome` para o formato `UltimoNome, PrimeiroNome`. Por exemplo, \"Rui Vieira de Castro\" passa a \"Castro, Rui\". Atenção aos conectores \"de\", \"dos\", etc."
      ]
    },
    {
      "cell_type": "code",
      "execution_count": 105,
      "metadata": {
        "id": "aYONUP3BcAdf"
      },
      "outputs": [
        {
          "data": {
            "text/plain": [
              "'Este texto foi feito por Sofia Guilherme Rodrigues dos Santos, com  base no texto original de Pedro Rafael Paiva Moura, com a ajuda dos professores Pedro Rangel Henriques e Jose Joao Antunes Guimaraes Dias De Almeida. Apesar de partilharem o mesmo apelido, a Sofia nao e da mesma familia do famoso autor Jose Rodrigues dos Santos.'"
            ]
          },
          "execution_count": 105,
          "metadata": {},
          "output_type": "execute_result"
        }
      ],
      "source": [
        "texto = \"\"\"Este texto foi feito por Sofia Guilherme Rodrigues dos Santos, com \n",
        "base no texto original de Pedro Rafael Paiva Moura, com a ajuda\n",
        "dos professores Pedro Rangel Henriques e José João Antunes Guimarães Dias De Almeida.\n",
        "Apesar de partilharem o mesmo apelido, a Sofia não é da mesma família do famoso\n",
        "autor José Rodrigues dos Santos.\"\"\"\n",
        "\n",
        "import unicodedata\n",
        "\n",
        "texto = unicodedata.normalize('NFKD', texto)\n",
        "texto = texto.encode('ASCII', 'ignore').decode('utf-8')\n",
        "texto = texto.replace('\\n',' ')\n",
        "texto"
      ]
    },
    {
      "cell_type": "code",
      "execution_count": 136,
      "metadata": {},
      "outputs": [
        {
          "name": "stdout",
          "output_type": "stream",
          "text": [
            "['Este', 'texto', 'foi', 'feito', 'por', 'Sofia', 'Guilherme', 'Rodrigues', 'dos', 'Santos', '', 'com', '', 'base', 'no', 'texto', 'original', 'de', 'Pedro', 'Rafael', 'Paiva', 'Moura', '', 'com', 'a', 'ajuda', 'dos', 'professores', 'Pedro', 'Rangel', 'Henriques', 'e', 'Jose', 'Joao', 'Antunes', 'Guimaraes', 'Dias', 'De', 'Almeida', '', 'Apesar', 'de', 'partilharem', 'o', 'mesmo', 'apelido', '', 'a', 'Sofia', 'nao', 'e', 'da', 'mesma', 'familia', 'do', 'famoso', 'autor', 'Jose', 'Rodrigues', 'dos', 'Santos', '']\n"
          ]
        }
      ],
      "source": [
        "list = re.split('\\W',texto)\n",
        "print(list)\n"
      ]
    },
    {
      "cell_type": "markdown",
      "metadata": {
        "id": "7mMTNkFUm7lV"
      },
      "source": [
        "## Exercício 4 - Códigos postais 2\n",
        "\n",
        "Define uma função `codigos_postais` que recebe uma lista de códigos postais e divide-os com base no hífen. Ao contrário do exercício da ficha anterior, esta função pode receber códigos postais inválidos. A função deve devolver uma lista de pares e apenas processar cada linha uma vez."
      ]
    },
    {
      "cell_type": "code",
      "execution_count": 138,
      "metadata": {
        "id": "rvxXocYpnqlX"
      },
      "outputs": [
        {
          "name": "stdout",
          "output_type": "stream",
          "text": [
            "<re.Match object; span=(0, 8), match='4700-000'>\n",
            "None\n",
            "<re.Match object; span=(0, 8), match='1234-567'>\n",
            "None\n",
            "None\n",
            "None\n",
            "<re.Match object; span=(0, 8), match='9481-025'>\n"
          ]
        }
      ],
      "source": [
        "lista = [\n",
        "    \"4700-000\", # válido\n",
        "    \"9876543\", # inválido\n",
        "    \"1234-567\", # válido\n",
        "    \"8x41-5a3\", # inválido\n",
        "    \"84234-12\", # inválido\n",
        "    \"4583--321\", # inválido\n",
        "    \"9481-025\" # válido\n",
        "]\n",
        "\n",
        "for i in lista:\n",
        "    print(re.match('\\d{4}-\\d{3}',i))"
      ]
    },
    {
      "cell_type": "markdown",
      "metadata": {
        "id": "m2rtSDSccn33"
      },
      "source": [
        "## Exercício 5 - Expansão de abreviaturas\n",
        "\n",
        "Escreve um filtro de texto que expanda as abreviaturas que encontrar no texto fonte no formato \"/abrev\"."
      ]
    },
    {
      "cell_type": "code",
      "execution_count": 168,
      "metadata": {
        "id": "Hm60iNFV52oX"
      },
      "outputs": [
        {
          "data": {
            "text/plain": [
              "'A Unidade Curricular de Processamento de Linguagens é muito fixe! É uma Unidade Curricular que acrescenta muito ao curso de Licenciatura em Engenharia Informática da Universidade do Minho'"
            ]
          },
          "execution_count": 168,
          "metadata": {},
          "output_type": "execute_result"
        }
      ],
      "source": [
        "abreviaturas = {\n",
        "    \"UM\": \"Universidade do Minho\",\n",
        "    \"LEI\": \"Licenciatura em Engenharia Informática\",\n",
        "    \"UC\": \"Unidade Curricular\",\n",
        "    \"PL\": \"Processamento de Linguagens\"\n",
        "}\n",
        "\n",
        "texto = \"A /abrev{UC} de /abrev{PL} é muito fixe! É uma /abrev{UC} que acrescenta muito ao curso de /abrev{LEI} da /abrev{UM}.\"\n",
        "\n",
        "list = re.split('\\s',texto)\n",
        "\n",
        "newlist = []\n",
        "for i in list:\n",
        "    if bool(re.match('/abrev{[A-Z]+}',i)):\n",
        "        newlist.append(abreviaturas[re.findall('[A-Z]+',i)[0]]) \n",
        "    else:\n",
        "        newlist.append(i)\n",
        "\n",
        "' '.join(newlist)"
      ]
    },
    {
      "cell_type": "markdown",
      "metadata": {
        "id": "oEiMpi4FDkqm"
      },
      "source": [
        "## Exercício 6 - Matrículas\n",
        "\n",
        "Define uma função `matricula_valida` que recebe uma string de texto e determina se esta contém uma matrícula válida. Uma matrícula segue o formato AA-BB-CC, no qual dois dos três conjuntos devem ser compostos por números e o terceiro por letras maiúsculas (por exemplo, 01-AB-23), ou o novo formato no qual dois dos conjuntos são compostos por letras maiúsculas e o terceiro por números (por exemplo, 89-WX-YZ). Os conjuntos podem ser separados por um hífen ou um espaço.\n",
        "\n",
        "Extra: Garante que o mesmo separador é usado para separar os três conjuntos."
      ]
    },
    {
      "cell_type": "code",
      "execution_count": 170,
      "metadata": {
        "id": "CPR0gi10E5Dj"
      },
      "outputs": [
        {
          "name": "stdout",
          "output_type": "stream",
          "text": [
            "AA-AA-AA  is not valid\n",
            "LR-RB-32  is a valid number plate\n",
            "1234LX  is not valid\n",
            "PL 22 23  is a valid number plate\n",
            "ZZ-99-ZZ  is a valid number plate\n",
            "54-tb-34  is not valid\n",
            "12 34 56  is not valid\n",
            "42-HA BQ  is a valid number plate\n"
          ]
        }
      ],
      "source": [
        "matriculas = [\n",
        "    \"AA-AA-AA\", # inválida\n",
        "    \"LR-RB-32\", # válida\n",
        "    \"1234LX\", # inválida\n",
        "    \"PL 22 23\", # válida\n",
        "    \"ZZ-99-ZZ\", # válida\n",
        "    \"54-tb-34\", # inválida\n",
        "    \"12 34 56\", # inválida\n",
        "    \"42-HA BQ\" # válida, mas inválida com o requisito extra\n",
        "]\n",
        "\n",
        "for i in matriculas:\n",
        "    list = re.split('-|\\W',i)\n",
        "    c_letter_blocks = 0\n",
        "    c_digit_blocks = 0\n",
        "    for j in list:\n",
        "        if re.match('[A-Z]{2}',j):\n",
        "            c_letter_blocks +=1\n",
        "        elif re.match('\\d{2}',j):\n",
        "            c_digit_blocks += 1\n",
        "    if (c_digit_blocks == 2 and c_letter_blocks == 1) or (c_digit_blocks == 1 and c_letter_blocks == 2):\n",
        "        print(i, ' is a valid number plate')\n",
        "    else: print(i, ' is not valid')\n"
      ]
    },
    {
      "cell_type": "markdown",
      "metadata": {
        "id": "-_NVZEbp8xM-"
      },
      "source": [
        "## Exercício 7 - *Mad Libs*\n",
        "\n",
        "O jogo *Mad Libs*, bastante comum em países como os Estados Unidos, consiste em pegar num texto com espaços para algumas palavras e preencher esses espaços de acordo com o tipo de palavra que é pedida.\n",
        "\n",
        "Escreve um programa que lê um texto no formato *Mad Libs* e pede ao utilizador para fornecer palavras que completem corretamente o texto."
      ]
    },
    {
      "cell_type": "code",
      "execution_count": 186,
      "metadata": {
        "id": "VGX0mrL29Vgv"
      },
      "outputs": [
        {
          "name": "stdout",
          "output_type": "stream",
          "text": [
            "Num lindo dia de\n",
            "verao\n",
            "florian\n",
            "foi passear com o seu\n",
            "padre\n",
            "Quando chegaram à\n",
            "anna\n",
            "encontraram um\n",
            "seu\n",
            "muito\n",
            "lindo\n",
            "Ficaram muito confusos, pois não conseguiam identificar a função daquilo.\n",
            "Seria para\n",
            "\n",
            "Tentaram perguntar a\n",
            "\n",
            "que também não sabia.\n",
            "Desanimados, pegaram no objeto e deixaram-no no\n",
            "\n",
            "mais próximo. \n",
            "Talvez os\n",
            "\n",
            "de lá conseguissem encontrar alguma utilidade para aquilo.\n"
          ]
        }
      ],
      "source": [
        "texto = \"\"\"Num lindo dia de [ESTAÇÃO DO ANO], [NOME DE PESSOA] foi passear com o seu [EXPRESSÃO DE PARENTESCO MASCULINA]. \n",
        "Quando chegaram à [NOME DE LOCAL FEMININO], encontraram um [OBJETO MASCULINO] muito [ADJETIVO MASCULINO].\n",
        "Ficaram muito confusos, pois não conseguiam identificar a função daquilo.\n",
        "Seria para [VERBO INFINITIVO]? Tentaram perguntar a [NOME DE PESSOA FAMOSA], que também não sabia.\n",
        "Desanimados, pegaram no objeto e deixaram-no no [NOME DE LOCAL MASCULINO] mais próximo. \n",
        "Talvez os [NOME PLURAL MASCULINO] de lá conseguissem encontrar alguma utilidade para aquilo.\"\"\"\n",
        "\n",
        "list = re.split('\\W(?=\\[)|(?<=\\])\\W',texto)\n",
        "cleanlist = []\n",
        "for i in list:\n",
        "    if i == '':\n",
        "        pass\n",
        "    else:\n",
        "        cleanlist.append(i.strip())\n",
        "\n",
        "for i in cleanlist:\n",
        "    if re.match('\\[',i):\n",
        "        request = 'Give a '+i\n",
        "        a = input(request)\n",
        "        print(a)\n",
        "    else: print(i)\n"
      ]
    },
    {
      "cell_type": "markdown",
      "metadata": {
        "id": "z8HMWeua6Zc2"
      },
      "source": [
        "## Exercício 8 - Remoção de repetidos\n",
        "\n",
        "Escreve um filtro de texto que sempre que encontrar no texto fonte uma palavra repetida elimina as repetições, ou seja, substitui a lista de palavras por 1 só palavra."
      ]
    },
    {
      "cell_type": "code",
      "execution_count": 199,
      "metadata": {
        "id": "YZxTwl0C6v2b"
      },
      "outputs": [
        {
          "name": "stdout",
          "output_type": "stream",
          "text": [
            "Ich Ich liebe liebe es, wenn wenn die Sonne scheint und und alles alles so so schön schön bunt bunt und und lebendig lebendig ist. Die Die Menschen sind sind fröhlich und und voller Energie Energie und ich ich fühle mich wirklich wirklich glücklich und zufrieden. Es Es ist wie wie eine Oase Oase in der der Wüste des Alltags, die die mir mir neue neue Kraft Kraft gibt gibt und und mich mich motiviert, weiterzumachen weiterzumachen\n"
          ]
        }
      ],
      "source": [
        "# Generate text with dublicates\n",
        "\n",
        "from random import randint\n",
        "\n",
        "\n",
        "text ='Ich liebe es, wenn die Sonne scheint und alles so schön bunt und lebendig ist. Die Menschen sind fröhlich und voller Energie und ich fühle mich wirklich glücklich und zufrieden. Es ist wie eine Oase in der Wüste des Alltags, die mir neue Kraft gibt und mich motiviert, weiterzumachen'\n",
        "\n",
        "list = re.split('\\s',text)\n",
        "newlist = []\n",
        "for i in list:\n",
        "    if randint(1,10)<= randint(1,10):\n",
        "        newlist.append(i)\n",
        "        newlist.append(i)\n",
        "    else: newlist.append(i)\n",
        "\n",
        "newtext = ' '.join(newlist)\n",
        "print(newtext)"
      ]
    },
    {
      "cell_type": "code",
      "execution_count": 205,
      "metadata": {},
      "outputs": [
        {
          "name": "stdout",
          "output_type": "stream",
          "text": [
            "Ich liebe es, wenn die Sonne scheint und alles so schön bunt und lebendig ist. Die Menschen sind fröhlich und voller Energie und ich fühle mich wirklich glücklich und zufrieden. Es ist wie eine Oase in der Wüste des Alltags, die mir neue Kraft gibt und mich motiviert,\n"
          ]
        }
      ],
      "source": [
        "# Clean text with dublicates\n",
        "\n",
        "list = re.split('\\s',newtext)\n",
        "newlist=[]\n",
        "for i in range(len(list)-1):\n",
        "    if list[i] == list[i+1]:\n",
        "        pass\n",
        "    else:\n",
        "        newlist.append(list[i])\n",
        "\n",
        "newtext = ' '.join(newlist)\n",
        "print(newtext)"
      ]
    }
  ],
  "metadata": {
    "colab": {
      "provenance": [],
      "toc_visible": true
    },
    "kernelspec": {
      "display_name": "Python 3",
      "name": "python3"
    },
    "language_info": {
      "codemirror_mode": {
        "name": "ipython",
        "version": 3
      },
      "file_extension": ".py",
      "mimetype": "text/x-python",
      "name": "python",
      "nbconvert_exporter": "python",
      "pygments_lexer": "ipython3",
      "version": "3.10.0"
    }
  },
  "nbformat": 4,
  "nbformat_minor": 0
}
